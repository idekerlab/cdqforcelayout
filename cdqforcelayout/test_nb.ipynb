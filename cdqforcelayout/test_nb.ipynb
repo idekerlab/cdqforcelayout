{
 "cells": [
  {
   "cell_type": "code",
   "execution_count": 1,
   "metadata": {},
   "outputs": [],
   "source": [
    "import cyjupyter\n",
    "import os\n",
    "import sys\n",
    "import ndex2\n",
    "import json\n",
    "import py4cytoscape as py4\n",
    "import time\n",
    "import tempfile\n",
    "from IPython import display\n",
    "import qflayout\n",
    "import matplotlib.pyplot as plt\n",
    "import matplotlib.image as mpimg"
   ]
  },
  {
   "cell_type": "code",
   "execution_count": 7,
   "metadata": {},
   "outputs": [],
   "source": [
    "def show_nicecx(nicecx):\n",
    "    cx = nicecx.to_cx()\n",
    "    cyjupyter.Cytoscape(data=cx, format='cx', layout={'height': '300px'})\n",
    "    "
   ]
  },
  {
   "cell_type": "code",
   "execution_count": 8,
   "metadata": {},
   "outputs": [
    {
     "name": "stdout",
     "output_type": "stream",
     "text": [
      "Name: Sonic Hedgehog\n",
      "Nodes: 18\n",
      "Edges: 45\n",
      "Node Attributes: 36\n",
      "Edge Attributes: 450\n",
      "\n"
     ]
    }
   ],
   "source": [
    "NETWORK_UUID = \"cfd3528f-a7a4-11eb-9e72-0ac135e8bacf\"\n",
    "SERVER = \"https://ndexbio.org\"\n",
    "test_network = ndex2.create_nice_cx_from_server(SERVER, uuid=NETWORK_UUID)\n",
    "test_network.print_summary()\n",
    "\n"
   ]
  },
  {
   "cell_type": "code",
   "execution_count": 9,
   "metadata": {},
   "outputs": [
    {
     "name": "stdout",
     "output_type": "stream",
     "text": [
      "Generating CX\n"
     ]
    }
   ],
   "source": [
    "show_nicecx(test_network)"
   ]
  },
  {
   "cell_type": "code",
   "execution_count": null,
   "metadata": {},
   "outputs": [],
   "source": []
  }
 ],
 "metadata": {
  "kernelspec": {
   "display_name": "Python 3 (ipykernel)",
   "language": "python",
   "name": "python3"
  },
  "language_info": {
   "codemirror_mode": {
    "name": "ipython",
    "version": 3
   },
   "file_extension": ".py",
   "mimetype": "text/x-python",
   "name": "python",
   "nbconvert_exporter": "python",
   "pygments_lexer": "ipython3",
   "version": "3.9.7"
  }
 },
 "nbformat": 4,
 "nbformat_minor": 2
}
