{
 "cells": [
  {
   "cell_type": "code",
   "execution_count": 18,
   "metadata": {},
   "outputs": [],
   "source": [
    "import cyjupyter\n",
    "import os\n",
    "import sys\n",
    "import ndex2\n",
    "import getpass\n",
    "import json\n",
    "import numpy as np\n",
    "import seaborn\n",
    "#import py4cytoscape as py4\n",
    "#import time\n",
    "#import tempfile\n",
    "#from IPython import display\n",
    "import qflayout\n",
    "#import matplotlib.pyplot as plt\n",
    "#import matplotlib.image as mpimg"
   ]
  },
  {
   "cell_type": "code",
   "execution_count": 19,
   "metadata": {},
   "outputs": [
    {
     "name": "stdout",
     "output_type": "stream",
     "text": [
      "<zip object at 0x0000020DE5DCB640>\n",
      "(0, 1)\n",
      "(0, 2)\n"
     ]
    }
   ],
   "source": [
    "x = np.array([[5, 1, 1], [3, 2, 3], [3, 2, 3]])\n",
    "locs = np.where(x == x.min())\n",
    "coords = zip(locs[0], locs[1])\n",
    "print(coords)\n",
    "for coord in coords:\n",
    "    print(coord)"
   ]
  },
  {
   "cell_type": "code",
   "execution_count": 20,
   "metadata": {},
   "outputs": [
    {
     "name": "stdout",
     "output_type": "stream",
     "text": [
      "Name: Sonic Hedgehog\n",
      "Nodes: 18\n",
      "Edges: 45\n",
      "Node Attributes: 36\n",
      "Edge Attributes: 450\n",
      "\n",
      "Generating CX\n"
     ]
    }
   ],
   "source": [
    "NETWORK_UUID = \"cfd3528f-a7a4-11eb-9e72-0ac135e8bacf\"\n",
    "SERVER = \"https://ndexbio.org\"\n",
    "test_network = ndex2.create_nice_cx_from_server(SERVER, uuid=NETWORK_UUID)\n",
    "test_network.print_summary()\n",
    "test_cx = test_network.to_cx()\n",
    "#cyjupyter.Cytoscape(data=test_cx, format='cx', layout={'height': '300px'})\n"
   ]
  },
  {
   "cell_type": "code",
   "execution_count": 21,
   "metadata": {},
   "outputs": [],
   "source": [
    "\n",
    "def load_test_cx(filename):\n",
    "    #current_path = os.path.realpath(__file__)   \n",
    "    #current_dir = os.path.dirname(current_path)\n",
    "    #cx_dir = os.getcwd().replace('cdqforcelayout', \"tests\")\n",
    "    #path = str(os.path.join(\"tests/data/\" + filename))\n",
    "    #script_dir = os.path.dirname(__file__) #<-- absolute dir this script is in\n",
    "    #rel_path = \"tests/data/\" + filename\n",
    "    parent_dir = os.path.dirname(os.getcwd())\n",
    "    path = os.path.join(parent_dir, \"tests\", \"data\", filename)\n",
    "    return ndex2.create_nice_cx_from_file(path)\n",
    "\n"
   ]
  },
  {
   "cell_type": "code",
   "execution_count": 22,
   "metadata": {},
   "outputs": [
    {
     "data": {
      "text/plain": [
       "[<ndex2.nice_cx_network.NiceCXNetwork at 0x20de130ce50>]"
      ]
     },
     "execution_count": 22,
     "metadata": {},
     "output_type": "execute_result"
    }
   ],
   "source": [
    "test_network_files = [\"test_nectin_adhesion.cx\"]\n",
    "test_networks = []\n",
    "for filename in test_network_files:\n",
    "    test_networks.append(load_test_cx(filename))\n",
    "test_networks"
   ]
  },
  {
   "cell_type": "code",
   "execution_count": 23,
   "metadata": {},
   "outputs": [],
   "source": [
    "# Watch out for typos and be sure to hit enter in the field to set the value!!!\n",
    "##NDEXUSER = getpass.getpass()\n",
    "NDEXUSER = \"dexterpratt\""
   ]
  },
  {
   "cell_type": "code",
   "execution_count": 24,
   "metadata": {},
   "outputs": [],
   "source": [
    "# Watch out for typos and be sure to hit enter in the field to set the value!!!\n",
    "#NDEXPASSWORD = getpass.getpass()\n",
    "NDEXPASSWORD = \"cytoscaperules\"\n",
    "\n",
    "SERVER = \"http://www.ndexbio.org\""
   ]
  },
  {
   "cell_type": "code",
   "execution_count": 25,
   "metadata": {},
   "outputs": [],
   "source": [
    "def upload_network(cx_network):\n",
    "    url = cx_network.upload_to(SERVER, NDEXUSER, NDEXPASSWORD)\n",
    "    url = url.split('/')[-1]\n",
    "    print(\"Network's URL (click to view!): \" + SERVER + \"/viewer/networks/\" + url)"
   ]
  },
  {
   "cell_type": "code",
   "execution_count": 26,
   "metadata": {},
   "outputs": [
    {
     "name": "stdout",
     "output_type": "stream",
     "text": [
      "Generating CX\n",
      "Network's URL (click to view!): http://www.ndexbio.org/viewer/networks/bd0970a0-a356-11ec-b3be-0ac135e8bacf\n"
     ]
    }
   ],
   "source": [
    "qfl = qflayout.QFLayout.from_nicecx(test_networks[0], initialize_coordinates=\"center\")\n",
    "new_layout = qfl.do_layout(rounds=10)\n",
    "test_networks[0].set_opaque_aspect(ndex2.constants.CARTESIAN_LAYOUT_ASPECT, new_layout)\n",
    "upload_network(test_networks[0])"
   ]
  },
  {
   "cell_type": "code",
   "execution_count": 27,
   "metadata": {},
   "outputs": [
    {
     "data": {
      "text/plain": [
       "[<ndex2.nice_cx_network.NiceCXNetwork at 0x20de130ce50>]"
      ]
     },
     "execution_count": 27,
     "metadata": {},
     "output_type": "execute_result"
    }
   ],
   "source": [
    "test_networks"
   ]
  },
  {
   "cell_type": "code",
   "execution_count": 29,
   "metadata": {},
   "outputs": [
    {
     "data": {
      "text/plain": [
       "[(161, 161),\n",
       " (160, 161),\n",
       " (160, 160),\n",
       " (161, 160),\n",
       " (162, 160),\n",
       " (162, 161),\n",
       " (162, 162),\n",
       " (161, 162),\n",
       " (160, 162),\n",
       " (159, 162),\n",
       " (159, 161),\n",
       " (159, 160),\n",
       " (159, 159),\n",
       " (160, 159),\n",
       " (161, 159),\n",
       " (162, 159),\n",
       " (163, 159),\n",
       " (163, 160),\n",
       " (163, 161),\n",
       " (163, 162),\n",
       " (163, 163)]"
      ]
     },
     "execution_count": 29,
     "metadata": {},
     "output_type": "execute_result"
    }
   ],
   "source": [
    "def make_spiral(n, center):\n",
    "    x_list = [center]\n",
    "    y_list = [center]\n",
    "    x_dist = 1\n",
    "    y_dist = 1\n",
    "    x_dir = 1\n",
    "    y_dir = 1\n",
    "    x = center\n",
    "    y = center\n",
    "    count = 1\n",
    "    while count <= n:\n",
    "        for dx in range(1, x_dist):\n",
    "            x = x + x_dir\n",
    "            x_list.append(x)\n",
    "            y_list.append(y)\n",
    "\n",
    "            count = count+1\n",
    "            if count > n:\n",
    "                break\n",
    "        x_dir = -x_dir\n",
    "        x_dist = x_dist +1\n",
    "        for dy in range(1, y_dist):\n",
    "            y = y + y_dir\n",
    "            x_list.append(x)\n",
    "            y_list.append(y)\n",
    "            count = count + 1\n",
    "            if count > n:\n",
    "                break\n",
    "        y_dir = -y_dir\n",
    "        y_dist = y_dist + 1\n",
    "    return list(zip(x_list, y_list))\n",
    "\n",
    "make_spiral(20, 161)"
   ]
  },
  {
   "cell_type": "code",
   "execution_count": null,
   "metadata": {},
   "outputs": [],
   "source": []
  }
 ],
 "metadata": {
  "kernelspec": {
   "display_name": "Python 3 (ipykernel)",
   "language": "python",
   "name": "python3"
  },
  "language_info": {
   "codemirror_mode": {
    "name": "ipython",
    "version": 3
   },
   "file_extension": ".py",
   "mimetype": "text/x-python",
   "name": "python",
   "nbconvert_exporter": "python",
   "pygments_lexer": "ipython3",
   "version": "3.8.11"
  }
 },
 "nbformat": 4,
 "nbformat_minor": 2
}
