{
 "cells": [
  {
   "cell_type": "markdown",
   "source": [
    "## Comparing QForce\r\n",
    "This notebook does visual comparison of qforce with other layouts, or QForce using different parameters with each other. It uses Cytoscape via Py4Cytoscape to visualize the outputs. It also compares the speed of the layouts.\r\n",
    "\r\n",
    "It is centered around a \"compare\" function that accepts (1) dict of parameters for layout 1, (2) a dict of parameters for layout 2, and (3) a list of input CX files.  By default, it runs QForce vs Cytoscape Prefuse with default parameters on a set of test networks in the data folder."
   ],
   "metadata": {}
  },
  {
   "cell_type": "markdown",
   "source": [
    "## Imports"
   ],
   "metadata": {}
  },
  {
   "cell_type": "code",
   "execution_count": 1,
   "source": [
    "import os\r\n",
    "import sys\r\n",
    "import ndex2\r\n",
    "import py4cytoscape as p4c\r\n",
    "from cdqforcelayout import qflayout\r\n",
    "import matplotlib.pyplot as plt\r\n",
    "%matplotlib inline"
   ],
   "outputs": [
    {
     "output_type": "error",
     "ename": "ModuleNotFoundError",
     "evalue": "No module named 'cdqforcelayout'",
     "traceback": [
      "\u001b[1;31m---------------------------------------------------------------------------\u001b[0m",
      "\u001b[1;31mModuleNotFoundError\u001b[0m                       Traceback (most recent call last)",
      "\u001b[1;32m<ipython-input-1-6a84c392fe0c>\u001b[0m in \u001b[0;36m<module>\u001b[1;34m\u001b[0m\n\u001b[0;32m      3\u001b[0m \u001b[1;32mimport\u001b[0m \u001b[0mndex2\u001b[0m\u001b[1;33m\u001b[0m\u001b[1;33m\u001b[0m\u001b[0m\n\u001b[0;32m      4\u001b[0m \u001b[1;32mimport\u001b[0m \u001b[0mpy4cytoscape\u001b[0m \u001b[1;32mas\u001b[0m \u001b[0mp4c\u001b[0m\u001b[1;33m\u001b[0m\u001b[1;33m\u001b[0m\u001b[0m\n\u001b[1;32m----> 5\u001b[1;33m \u001b[1;32mfrom\u001b[0m \u001b[0mcdqforcelayout\u001b[0m \u001b[1;32mimport\u001b[0m \u001b[0mqflayout\u001b[0m\u001b[1;33m\u001b[0m\u001b[1;33m\u001b[0m\u001b[0m\n\u001b[0m\u001b[0;32m      6\u001b[0m \u001b[1;32mimport\u001b[0m \u001b[0mmatplotlib\u001b[0m\u001b[1;33m.\u001b[0m\u001b[0mpyplot\u001b[0m \u001b[1;32mas\u001b[0m \u001b[0mplt\u001b[0m\u001b[1;33m\u001b[0m\u001b[1;33m\u001b[0m\u001b[0m\n\u001b[0;32m      7\u001b[0m \u001b[0mget_ipython\u001b[0m\u001b[1;33m(\u001b[0m\u001b[1;33m)\u001b[0m\u001b[1;33m.\u001b[0m\u001b[0mrun_line_magic\u001b[0m\u001b[1;33m(\u001b[0m\u001b[1;34m'matplotlib'\u001b[0m\u001b[1;33m,\u001b[0m \u001b[1;34m'inline'\u001b[0m\u001b[1;33m)\u001b[0m\u001b[1;33m\u001b[0m\u001b[1;33m\u001b[0m\u001b[0m\n",
      "\u001b[1;31mModuleNotFoundError\u001b[0m: No module named 'cdqforcelayout'"
     ]
    }
   ],
   "metadata": {}
  },
  {
   "cell_type": "markdown",
   "source": [
    "Test Networks"
   ],
   "metadata": {}
  },
  {
   "cell_type": "code",
   "execution_count": 7,
   "source": [
    "test_network_files = [\"test_nectin_adhesion.cx\"]\r\n",
    "test_networks = []\r\n",
    "def load_cx(filename):\r\n",
    "    print(filename)\r\n",
    "    path = \"./data/\" + filename\r\n",
    "    err_stream = sys.stderr\r\n",
    "    if path is None or not os.path.isfile(path):\r\n",
    "        err_stream.write(str(path) + ' is not a file')\r\n",
    "        return None\r\n",
    "        \r\n",
    "    if os.path.getsize(path) == 0:\r\n",
    "        err_stream.write(str(path) + ' is an empty file')\r\n",
    "        return None\r\n",
    "\r\n",
    "    try:\r\n",
    "        return ndex2.create_nice_cx_from_file(path)\r\n",
    "    except Exception as e:\r\n",
    "        err_stream.write(str(e))\r\n",
    "        return None\r\n",
    "    finally:\r\n",
    "        err_stream.flush()    \r\n",
    "\r\n",
    "for filename in test_network_files:\r\n",
    "    print(test_network_files)\r\n",
    "    cx_network = load_cx(filename)\r\n",
    "    if cx_network is not None:\r\n",
    "        test_networks.append(cx_network)\r\n",
    "\r\n",
    "test_networks"
   ],
   "outputs": [
    {
     "output_type": "stream",
     "name": "stdout",
     "text": [
      "['test_nectin_adhesion.cx']\n",
      "test_nectin_adhesion.cx\n"
     ]
    },
    {
     "output_type": "execute_result",
     "data": {
      "text/plain": [
       "[<ndex2.nice_cx_network.NiceCXNetwork at 0x266388a97c0>]"
      ]
     },
     "metadata": {},
     "execution_count": 7
    }
   ],
   "metadata": {}
  },
  {
   "cell_type": "markdown",
   "source": [
    "## Output the network as an image using Cytoscape\r\n",
    "Use Py4Ctyoscape to \r\n",
    "* Send the network to Cytoscape\r\n",
    "* Create a view\r\n",
    "* Generate the image and return\r\n",
    "* Clean up Cytoscape by deleting the network and its view"
   ],
   "metadata": {}
  },
  {
   "cell_type": "code",
   "execution_count": null,
   "source": [],
   "outputs": [],
   "metadata": {}
  },
  {
   "cell_type": "markdown",
   "source": [],
   "metadata": {}
  }
 ],
 "metadata": {
  "orig_nbformat": 4,
  "language_info": {
   "name": "python",
   "version": "3.8.11",
   "mimetype": "text/x-python",
   "codemirror_mode": {
    "name": "ipython",
    "version": 3
   },
   "pygments_lexer": "ipython3",
   "nbconvert_exporter": "python",
   "file_extension": ".py"
  },
  "kernelspec": {
   "name": "python3",
   "display_name": "Python 3.8.11 64-bit ('base': conda)"
  },
  "interpreter": {
   "hash": "581da54b7a2f163ffaa8451509377a160abd7515d38592cf8c822d9791200e88"
  }
 },
 "nbformat": 4,
 "nbformat_minor": 2
}