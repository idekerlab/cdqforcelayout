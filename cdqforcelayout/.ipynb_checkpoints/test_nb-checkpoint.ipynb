{
 "cells": [
  {
   "cell_type": "code",
   "execution_count": 1,
   "metadata": {},
   "outputs": [],
   "source": [
    "import cyjupyter\n",
    "import os\n",
    "import sys\n",
    "import ndex2\n",
    "import json\n",
    "import py4cytoscape as py4\n",
    "import time\n",
    "import tempfile\n",
    "from IPython import display\n",
    "import qflayout\n",
    "import matplotlib.pyplot as plt\n",
    "import matplotlib.image as mpimg"
   ]
  },
  {
   "cell_type": "code",
   "execution_count": 2,
   "metadata": {},
   "outputs": [
    {
     "name": "stdout",
     "output_type": "stream",
     "text": [
      "Name: Sonic Hedgehog\n",
      "Nodes: 18\n",
      "Edges: 45\n",
      "Node Attributes: 36\n",
      "Edge Attributes: 450\n",
      "\n",
      "Generating CX\n"
     ]
    },
    {
     "data": {
      "application/vnd.jupyter.widget-view+json": {
       "model_id": "d77c2ddfd140474ca4ae5b8b56ab4a03",
       "version_major": 2,
       "version_minor": 0
      },
      "text/plain": [
       "Cytoscape(data=[{'numberVerification': [{'longNumber': 281474976710655}]}, {'metaData': [{'name': 'nodes', 'el…"
      ]
     },
     "metadata": {},
     "output_type": "display_data"
    }
   ],
   "source": [
    "NETWORK_UUID = \"cfd3528f-a7a4-11eb-9e72-0ac135e8bacf\"\n",
    "SERVER = \"https://ndexbio.org\"\n",
    "test_network = ndex2.create_nice_cx_from_server(SERVER, uuid=NETWORK_UUID)\n",
    "test_network.print_summary()\n",
    "test_cx = test_network.to_cx()\n",
    "cyjupyter.Cytoscape(data=test_cx, format='cx')"
   ]
  },
  {
   "cell_type": "code",
   "execution_count": null,
   "metadata": {},
   "outputs": [],
   "source": []
  }
 ],
 "metadata": {
  "kernelspec": {
   "display_name": "Python 3 (ipykernel)",
   "language": "python",
   "name": "python3"
  },
  "language_info": {
   "codemirror_mode": {
    "name": "ipython",
    "version": 3
   },
   "file_extension": ".py",
   "mimetype": "text/x-python",
   "name": "python",
   "nbconvert_exporter": "python",
   "pygments_lexer": "ipython3",
   "version": "3.9.7"
  }
 },
 "nbformat": 4,
 "nbformat_minor": 2
}
